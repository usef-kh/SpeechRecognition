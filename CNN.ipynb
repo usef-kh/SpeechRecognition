{
  "nbformat": 4,
  "nbformat_minor": 0,
  "metadata": {
    "colab": {
      "name": "CNN.ipynb",
      "provenance": [],
      "collapsed_sections": [],
      "toc_visible": true,
      "include_colab_link": true
    },
    "kernelspec": {
      "name": "python3",
      "display_name": "Python 3"
    },
    "accelerator": "GPU"
  },
  "cells": [
    {
      "cell_type": "markdown",
      "metadata": {
        "id": "view-in-github",
        "colab_type": "text"
      },
      "source": [
        "<a href=\"https://colab.research.google.com/github/usef-kh/SpeechRecognition/blob/master/CNN.ipynb\" target=\"_parent\"><img src=\"https://colab.research.google.com/assets/colab-badge.svg\" alt=\"Open In Colab\"/></a>"
      ]
    },
    {
      "cell_type": "code",
      "metadata": {
        "id": "TtaapejCCYxJ",
        "colab_type": "code",
        "colab": {}
      },
      "source": [
        "# Load Kaggle API Token\n",
        "from google.colab import files\n",
        "!pip install -q kaggle > /dev/null\n",
        "uploaded = files.upload()\n",
        "!mkdir ~/.kaggle\n",
        "!cp /content/kaggle.json ~/.kaggle/kaggle.json\n",
        "!chmod 600 /root/.kaggle/kaggle.json\n",
        "\n",
        "# Load Data\n",
        "!kaggle competitions download -c tensorflow-speech-recognition-challenge > /dev/null\n",
        "\n",
        "# # Unzip Data\n",
        "# !apt-get install p7zip-full > /dev/null\n",
        "!p7zip -d train.7z\n"
      ],
      "execution_count": null,
      "outputs": []
    },
    {
      "cell_type": "markdown",
      "metadata": {
        "id": "1RfPPVwZU0zK",
        "colab_type": "text"
      },
      "source": [
        "<!-- ## Useful Imports and Functions -->"
      ]
    },
    {
      "cell_type": "code",
      "metadata": {
        "id": "ngBpZSadzKxv",
        "colab_type": "code",
        "colab": {
          "base_uri": "https://localhost:8080/",
          "height": 34
        },
        "outputId": "6c707043-4bed-4ec8-f890-6e16379c41f6"
      },
      "source": [
        "import librosa\n",
        "import librosa.display\n",
        "from scipy import signal\n",
        "import numpy as np\n",
        "from keras import backend as K\n",
        "from sklearn.model_selection import train_test_split\n",
        "from scipy.io import wavfile\n",
        "import time\n",
        "from IPython.display import Audio\n",
        "from os import walk\n",
        "from matplotlib import pyplot as plt\n",
        "import csv\n",
        "import keras\n",
        "import random\n",
        "import collections\n",
        "import IPython.display as ipd"
      ],
      "execution_count": 2,
      "outputs": [
        {
          "output_type": "stream",
          "text": [
            "Using TensorFlow backend.\n"
          ],
          "name": "stderr"
        }
      ]
    },
    {
      "cell_type": "markdown",
      "metadata": {
        "id": "_Mf8kGDGgZhw",
        "colab_type": "text"
      },
      "source": [
        "### Loading Data Helper funcitons"
      ]
    },
    {
      "cell_type": "code",
      "metadata": {
        "id": "qfdUbG_tDVtM",
        "colab_type": "code",
        "colab": {}
      },
      "source": [
        "def fixSize(data, nsamples=16000):\n",
        "    maxID = np.argmax(np.abs(data))\n",
        "    leftVal = data[0]\n",
        "    rightVal = data[-1]\n",
        "    ptr = maxID - nsamples//2\n",
        "    res = []\n",
        "    while ptr < 0:\n",
        "        res.append(leftVal)\n",
        "        ptr += 1\n",
        "\n",
        "    while len(res) < nsamples and ptr < len(data):\n",
        "        res.append(data[ptr])\n",
        "        ptr += 1\n",
        "\n",
        "    while len(res) < nsamples:\n",
        "        res.append(rightVal)\n",
        "    \n",
        "    data = np.array(res).astype(np.float16)\n",
        "        \n",
        "    return data"
      ],
      "execution_count": 57,
      "outputs": []
    },
    {
      "cell_type": "code",
      "metadata": {
        "id": "71mVBp9RedWf",
        "colab_type": "code",
        "colab": {}
      },
      "source": [
        "def generateFiles():\n",
        "    train_audio_path = '/content/train/audio/'\n",
        "\n",
        "    # Load all filenames into a dictionary so we can call on them easily\n",
        "    files = {}\n",
        "    for (dirpath, dirnames, filenames) in walk(train_audio_path):\n",
        "        files[dirpath[21:]] = filenames\n",
        "\n",
        "    files.pop('')\n",
        "    files['_background_noise_'].remove('README.md')\n",
        "\n",
        "    return files"
      ],
      "execution_count": 4,
      "outputs": []
    },
    {
      "cell_type": "code",
      "metadata": {
        "id": "uGdPvBbDnaOz",
        "colab_type": "code",
        "colab": {}
      },
      "source": [
        "import librosa\n",
        "import scipy.signal as sps\n",
        "import random\n",
        "\n",
        "\n",
        "def manipulatePitch(data, pitch_factor):\n",
        "    return librosa.effects.pitch_shift(data.astype(np.float32), 16000, pitch_factor)\n",
        "\n",
        "def stretch(data, rate=1):\n",
        "    input_length = 16000\n",
        "    data = librosa.effects.time_stretch(data.astype(np.float32), rate)\n",
        "    return fixSize(data)"
      ],
      "execution_count": 5,
      "outputs": []
    },
    {
      "cell_type": "code",
      "metadata": {
        "id": "YrizhRjYljru",
        "colab_type": "code",
        "colab": {}
      },
      "source": [
        "def get_wav(file_name, nsamples=16000, orig=False):\n",
        "    wav = wavfile.read(file_name)[1]\n",
        "    if orig:\n",
        "        return wav\n",
        "    else:\n",
        "        return fixSize(wav)\n",
        "\n",
        "    # if wav.size < nsamples:\n",
        "    #     audio = np.pad(wav, (nsamples - wav.size, 0), mode='constant')\n",
        "    # else:\n",
        "    #     audio = wav[0:nsamples]\n",
        "    # return audio\n",
        "\n",
        "def get_noise(filename, nsamples=16000, stepSize = 2000):\n",
        "    wav = wavfile.read(filename)[1]\n",
        "\n",
        "    noise = []\n",
        "    for i in range((len(wav)-nsamples) // stepSize):\n",
        "        start = i*stepSize\n",
        "        subsample = wav[start: start + nsamples]\n",
        "      \n",
        "        if len(subsample) < nsamples:\n",
        "            subsample = np.pad(wav, (nsamples - subsample.size, 0), mode='constant')\n",
        "        noise.append(subsample)\n",
        "    \n",
        "    return noise"
      ],
      "execution_count": 20,
      "outputs": []
    },
    {
      "cell_type": "code",
      "metadata": {
        "id": "a_t-SCIBVDFw",
        "colab_type": "code",
        "colab": {}
      },
      "source": [
        "def loadData(files, sample=None):\n",
        "    train_audio_path = '/content/train/audio/'\n",
        "    labels = set(['yes', 'no', 'up', 'down', 'left', 'right', 'on', 'off', 'stop', 'go'])\n",
        "\n",
        "    noiseChunks = []\n",
        "    for filename in files['_background_noise_']:\n",
        "        noise = get_noise(train_audio_path + '_background_noise_' + '/' + filename)\n",
        "        noiseChunks.append(noise)\n",
        "        \n",
        "    files.pop('_background_noise_')\n",
        "\n",
        "    choices = [0.8, 1.2]\n",
        "    \n",
        "    if sample:\n",
        "        sampleIdx = random.randint(0, len(files[sample]) - 1)\n",
        "        orig = get_wav(train_audio_path + sample + '/' + files[sample][sampleIdx], orig=True)\n",
        "        fixed = fixSize(orig)\n",
        "        \n",
        "        chunkID = random.randint(0, len(noiseChunks) - 1)\n",
        "        noiseSampleId = random.randint(0, len(noiseChunks[chunkID]) - 1)\n",
        "        noisy = fixed + noiseChunks[chunkID][noiseSampleId]*random.random()/10\n",
        "\n",
        "        stretched = stretch(fixed, choices[random.randint(0, 1)])\n",
        "\n",
        "        return (orig, fixed, noisy, stretched)\n",
        "\n",
        "    print(\"Loading and augmenting all classes\") \n",
        "    xtrain, ytrain = [], []\n",
        "    for label in ['yes', 'no', 'up', 'down', 'left', 'right', 'on', 'off', 'stop', 'go']:\n",
        "        \n",
        "        for i, filename in enumerate(files[label]):\n",
        "            audio = get_wav(train_audio_path + label + '/' + filename)\n",
        "            xtrain.append(audio)\n",
        "            ytrain.append(label)\n",
        "\n",
        "            if random.random() > 0.5:\n",
        "                # Data Augmentation thorugh adding noise           \n",
        "                chunk = noiseChunks[i % 6]\n",
        "                idx = random.randint(0, len(chunk) - 1)\n",
        "                noisy = audio + chunk[idx]*random.random()/10\n",
        "                \n",
        "                xtrain.append(noisy)\n",
        "                ytrain.append(label)\n",
        "\n",
        "            if random.random() > 0.5:\n",
        "                # Data Augmentation though changing speed\n",
        "                streched = stretch(audio, choices[i % 2])\n",
        "                xtrain.append(streched)\n",
        "                ytrain.append(label)\n",
        "\n",
        "            # print(i)\n",
        "        files.pop(label)\n",
        "\n",
        "    print(\"Loading 'unknown' class\")\n",
        "    for label, filenames in files.items():\n",
        "        for filename in filenames:\n",
        "            audio = get_wav(train_audio_path + label + '/' + filename)\n",
        "            xtrain.append(audio)\n",
        "            ytrain.append('unknown')\n",
        "\n",
        "    print(\"Adding 'silence' class\")\n",
        "    for chunk in noiseChunks:\n",
        "        xtrain.extend(chunk)\n",
        "        ytrain.extend(['silence']*len(chunk))\n",
        "    \n",
        "    return np.array(xtrain, dtype=np.float16), np.array(ytrain)\n",
        "\n",
        "\n",
        "\n",
        "    # rand_noise = np.array([0]*16000)\n",
        "                # for chunk in noiseChunks:\n",
        "                #     idx = random.randint(0, len(chunk) - 1)\n",
        "                #     noise_sample = chunk[idx]\n",
        "\n",
        "                # rand_noise += noise_sample\n"
      ],
      "execution_count": 62,
      "outputs": []
    },
    {
      "cell_type": "markdown",
      "metadata": {
        "id": "NrXGI4ZbgJGa",
        "colab_type": "text"
      },
      "source": [
        "### Preprocessing"
      ]
    },
    {
      "cell_type": "code",
      "metadata": {
        "id": "Umg7_ttyVBmm",
        "colab_type": "code",
        "colab": {}
      },
      "source": [
        "def onehot(A, mapping=None):\n",
        "  labels = set(['yes', 'no', 'up', 'down', 'left', 'right', 'on', 'off', 'stop', 'go', 'silence', 'unknown'])\n",
        "\n",
        "  if mapping is None:\n",
        "    mapping = {}\n",
        "    maptolable = {}\n",
        "    for i, label in enumerate(labels):\n",
        "      temp = [0] * len(labels)\n",
        "      temp[i] = 1\n",
        "      mapping[label] = temp\n",
        "      maptolable[i] = label\n",
        "      \n",
        "  res = []\n",
        "  for label in A:\n",
        "    res.append(mapping[label])\n",
        "  \n",
        "  return np.array(res), mapping, maptolable"
      ],
      "execution_count": 8,
      "outputs": []
    },
    {
      "cell_type": "markdown",
      "metadata": {
        "id": "bqFoE7y1ge7e",
        "colab_type": "text"
      },
      "source": [
        "### Other Functions"
      ]
    },
    {
      "cell_type": "code",
      "metadata": {
        "id": "xvCA96V9ghCq",
        "colab_type": "code",
        "colab": {}
      },
      "source": [
        "def f1(y_true, y_pred):\n",
        "  \"\"\"Macro F1 Score\n",
        "\n",
        "  A custom metric function that computes the average of the f1 scores \n",
        "  across all classesin a multiclass classificaiton problem\n",
        "  \"\"\"\n",
        "  def recall(y_true, y_pred):\n",
        "    \"\"\"Recall metric.\n",
        "\n",
        "    Only computes a batch-wise average of recall.\n",
        "\n",
        "    Computes the recall, a metric for multi-label classification of\n",
        "    how many relevant items are selected.\n",
        "    \"\"\"\n",
        "    true_positives = K.sum(K.round(K.clip(y_true * y_pred, 0, 1)))\n",
        "    possible_positives = K.sum(K.round(K.clip(y_true, 0, 1)))\n",
        "    recall = true_positives / (possible_positives + K.epsilon())\n",
        "    return recall\n",
        "\n",
        "  def precision(y_true, y_pred):\n",
        "    \"\"\"Precision metric.\n",
        "\n",
        "    Only computes a batch-wise average of precision.\n",
        "\n",
        "    Computes the precision, a metric for multi-label classification of\n",
        "    how many selected items are relevant.\n",
        "    \"\"\"\n",
        "    true_positives = K.sum(K.round(K.clip(y_true * y_pred, 0, 1)))\n",
        "    predicted_positives = K.sum(K.round(K.clip(y_pred, 0, 1)))\n",
        "    precision = true_positives / (predicted_positives + K.epsilon())\n",
        "    return precision\n",
        "    \n",
        "  precision = precision(y_true, y_pred)\n",
        "  recall = recall(y_true, y_pred)\n",
        "  return 2*((precision * recall)/(precision + recall + K.epsilon()))"
      ],
      "execution_count": 9,
      "outputs": []
    },
    {
      "cell_type": "code",
      "metadata": {
        "id": "S_W4p61jn3l6",
        "colab_type": "code",
        "colab": {}
      },
      "source": [
        "def swish(x, beta = 1):\n",
        "    return (x * K.sigmoid(beta * x))\n",
        "\n",
        "# Getting the Custom object and updating them \n",
        "from keras.utils.generic_utils import get_custom_objects \n",
        "from keras.layers import Activation \n",
        "  \n",
        "# Below in place of swish you can take any custom key for the name  \n",
        "get_custom_objects().update({'swish': Activation(swish)}) "
      ],
      "execution_count": 10,
      "outputs": []
    },
    {
      "cell_type": "code",
      "metadata": {
        "id": "yWuD4_atgn4I",
        "colab_type": "code",
        "colab": {}
      },
      "source": [
        "def performance_curves(history, metrics):\n",
        "  def generate_plot(metric):\n",
        "    train = history.history[metric]\n",
        "    val = history.history['val_' + metric]\n",
        "    x_axis = range(1, len(history.history[metric])+1)\n",
        "\n",
        "    plt.figure()\n",
        "    plt.plot(x_axis, train, label=\"Training \" + metric)\n",
        "    plt.plot(x_axis, val, label=\"Validation \" + metric)\n",
        "\n",
        "    plt.ylabel(metric)\n",
        "    plt.xlabel('Epochs')\n",
        "    plt.title('Epochs vs ' + metric)\n",
        "    plt.legend()\n",
        "    plt.show()\n",
        "\n",
        "    if metric == 'loss':\n",
        "      print('Minimum Validation Loss is:', str(min(val)))\n",
        "      print('Epoch: ', str(val.index(min(val)) + 1))\n",
        "    else:\n",
        "      print('Maximum', metric, 'is:', str(max(val)))\n",
        "      print('Epoch: ', str(val.index(max(val)) + 1))\n",
        "  \n",
        "  for metric in metrics:\n",
        "    generate_plot(metric)"
      ],
      "execution_count": 11,
      "outputs": []
    },
    {
      "cell_type": "markdown",
      "metadata": {
        "id": "V-QM-76C4bOk",
        "colab_type": "text"
      },
      "source": [
        "## Studying Dataset"
      ]
    },
    {
      "cell_type": "code",
      "metadata": {
        "id": "HNf2-MS1GWnd",
        "colab_type": "code",
        "colab": {}
      },
      "source": [
        "files = generateFiles()\n",
        "\n",
        "# Loading a random sample and all its augmentations\n",
        "orig, fixed, noisy, streched = loadData(files, sample='yes')"
      ],
      "execution_count": null,
      "outputs": []
    },
    {
      "cell_type": "code",
      "metadata": {
        "id": "aaen5hMiGdUf",
        "colab_type": "code",
        "colab": {}
      },
      "source": [
        ""
      ],
      "execution_count": null,
      "outputs": []
    },
    {
      "cell_type": "code",
      "metadata": {
        "id": "dJm_4MmE-B_1",
        "colab_type": "code",
        "colab": {
          "base_uri": "https://localhost:8080/",
          "height": 658
        },
        "outputId": "bd8892a0-e103-4085-82d1-62d93afecc63"
      },
      "source": [
        "figure, axes = plt.subplots(4)\n",
        "figure.subplots_adjust(top=2, hspace=0.5)\n",
        "axes[0].plot(orig)\n",
        "axes[0].set_title('orig')\n",
        "axes[1].plot(fixed)\n",
        "axes[1].set_title('fixed')\n",
        "axes[2].plot(noisy)\n",
        "axes[2].set_title('noisy')\n",
        "axes[3].plot(streched)\n",
        "axes[3].set_title('streched')"
      ],
      "execution_count": 60,
      "outputs": [
        {
          "output_type": "stream",
          "text": [
            "/usr/local/lib/python3.6/dist-packages/ipykernel_launcher.py:23: WavFileWarning: Chunk (non-data) not understood, skipping it.\n"
          ],
          "name": "stderr"
        },
        {
          "output_type": "execute_result",
          "data": {
            "text/plain": [
              "Text(0.5, 1.0, 'streched')"
            ]
          },
          "metadata": {
            "tags": []
          },
          "execution_count": 60
        },
        {
          "output_type": "display_data",
          "data": {
            "image/png": "[encoded data removed]",
            "text/plain": [
              "<Figure size 432x288 with 4 Axes>"
            ]
          },
          "metadata": {
            "tags": [],
            "needs_background": "light"
          }
        }
      ]
    },
    {
      "cell_type": "markdown",
      "metadata": {
        "id": "PqpdfVfRNtuQ",
        "colab_type": "text"
      },
      "source": [
        "### Loading samples"
      ]
    },
    {
      "cell_type": "code",
      "metadata": {
        "id": "mdTWNDq255jc",
        "colab_type": "code",
        "colab": {
          "base_uri": "https://localhost:8080/",
          "height": 479
        },
        "outputId": "293fc3fe-586f-47a1-d43a-f6a4280cb3e4"
      },
      "source": [
        "files = generateFiles()\n",
        "X, Y = loadData(files)\n",
        "\n",
        "debug = True\n",
        "if debug:\n",
        " \n",
        "  print(len(X), len(Y))\n",
        "  \n",
        "  count = 0\n",
        "  for label, samples in files.items():\n",
        "    print(label, '\\t', len(samples))\n",
        "    count += len(samples)\n",
        "\n",
        "  print(\"Number of Audio signals:\", count)"
      ],
      "execution_count": 63,
      "outputs": [
        {
          "output_type": "stream",
          "text": [
            "/usr/local/lib/python3.6/dist-packages/ipykernel_launcher.py:23: WavFileWarning: Chunk (non-data) not understood, skipping it.\n"
          ],
          "name": "stderr"
        },
        {
          "output_type": "stream",
          "text": [
            "Loading and augmenting all classes\n",
            "Loading 'unknown' class\n",
            "Adding 'silence' class\n",
            "91393 91393\n",
            "sheila \t 1734\n",
            "cat \t 1733\n",
            "wow \t 1745\n",
            "house \t 1750\n",
            "four \t 2372\n",
            "one \t 2370\n",
            "two \t 2373\n",
            "happy \t 1742\n",
            "nine \t 2364\n",
            "bird \t 1731\n",
            "eight \t 2352\n",
            "dog \t 1746\n",
            "zero \t 2376\n",
            "seven \t 2377\n",
            "five \t 2357\n",
            "six \t 2369\n",
            "tree \t 1733\n",
            "marvin \t 1746\n",
            "three \t 2356\n",
            "bed \t 1713\n",
            "Number of Audio signals: 41039\n"
          ],
          "name": "stdout"
        }
      ]
    },
    {
      "cell_type": "code",
      "metadata": {
        "id": "QOZxnfEdLp5J",
        "colab_type": "code",
        "colab": {
          "base_uri": "https://localhost:8080/",
          "height": 238
        },
        "outputId": "9f0e8cf4-a839-47a8-df9a-e41c666ea3b3"
      },
      "source": [
        "import collections\n",
        "\n",
        "print(len(X), len(Y))\n",
        "\n",
        "count = collections.defaultdict(int)\n",
        "for y in Y:\n",
        "  count[y] += 1\n",
        "\n",
        "for label, c in count.items():\n",
        "  print(label, c)\n",
        "    "
      ],
      "execution_count": 64,
      "outputs": [
        {
          "output_type": "stream",
          "text": [
            "91393 91393\n",
            "yes 4746\n",
            "no 4707\n",
            "up 4712\n",
            "down 4703\n",
            "left 4703\n",
            "right 4726\n",
            "on 4732\n",
            "off 4753\n",
            "stop 4757\n",
            "go 4669\n",
            "unknown 41039\n",
            "silence 3146\n"
          ],
          "name": "stdout"
        }
      ]
    },
    {
      "cell_type": "code",
      "metadata": {
        "id": "n69SEfW9rjvq",
        "colab_type": "code",
        "colab": {
          "base_uri": "https://localhost:8080/",
          "height": 170
        },
        "outputId": "b42aece6-9148-41eb-ce8b-f26cd487ee43"
      },
      "source": [
        "Xfinal = X.reshape(-1, 16000, 1)\n",
        "\n",
        "Yonehot, mapping, maptolable = onehot(Y)\n",
        "Yonehot = Yonehot.reshape(-1, 1, 12)\n",
        "\n",
        "xtrain, xval, ytrain, yval = train_test_split(Xfinal, Yonehot, test_size=0.2, random_state=127)\n",
        "\n",
        "print('Number of Dimensions:', X.ndim)\n",
        "print('Dataset')\n",
        "print('\\t', Xfinal.shape, '\\t', Yonehot.shape)\n",
        "\n",
        "print('\\nTraining Data')\n",
        "print('\\t', xtrain.shape, '\\t', ytrain.shape)\n",
        "\n",
        "print('\\nValidation Data')\n",
        "print('\\t', xval.shape, '\\t', yval.shape)"
      ],
      "execution_count": 65,
      "outputs": [
        {
          "output_type": "stream",
          "text": [
            "Number of Dimensions: 2\n",
            "Dataset\n",
            "\t (91393, 16000, 1) \t (91393, 1, 12)\n",
            "\n",
            "Training Data\n",
            "\t (73114, 16000, 1) \t (73114, 1, 12)\n",
            "\n",
            "Validation Data\n",
            "\t (18279, 16000, 1) \t (18279, 1, 12)\n"
          ],
          "name": "stdout"
        }
      ]
    },
    {
      "cell_type": "code",
      "metadata": {
        "id": "J0_zh13odTEh",
        "colab_type": "code",
        "colab": {
          "base_uri": "https://localhost:8080/",
          "height": 680
        },
        "outputId": "7f1c1ac7-1a90-4942-8b53-17ddbe28ecf3"
      },
      "source": [
        "def printCount(labels):\n",
        "    count = collections.defaultdict(int)\n",
        "    for i, y in enumerate(labels):\n",
        "        idx = np.where(y[0] == 1)[0][0]\n",
        "        count[maptolable[idx]] += 1\n",
        "\n",
        "    res = []\n",
        "    for label, c in count.items():\n",
        "        res.append((label, c))\n",
        "    \n",
        "    for label, c in sorted(res, key = lambda x: x[1]):\n",
        "        print(label, '\\t', c)\n",
        "    print('')\n",
        "\n",
        "printCount(Yonehot)\n",
        "printCount(ytrain)\n",
        "printCount(yval)"
      ],
      "execution_count": 66,
      "outputs": [
        {
          "output_type": "stream",
          "text": [
            "silence \t 3146\n",
            "go \t 4669\n",
            "down \t 4703\n",
            "left \t 4703\n",
            "no \t 4707\n",
            "up \t 4712\n",
            "right \t 4726\n",
            "on \t 4732\n",
            "yes \t 4746\n",
            "off \t 4753\n",
            "stop \t 4757\n",
            "unknown \t 41039\n",
            "\n",
            "silence \t 2470\n",
            "down \t 3740\n",
            "right \t 3747\n",
            "no \t 3749\n",
            "on \t 3763\n",
            "up \t 3768\n",
            "go \t 3780\n",
            "yes \t 3801\n",
            "off \t 3806\n",
            "left \t 3811\n",
            "stop \t 3830\n",
            "unknown \t 32849\n",
            "\n",
            "silence \t 676\n",
            "go \t 889\n",
            "left \t 892\n",
            "stop \t 927\n",
            "up \t 944\n",
            "yes \t 945\n",
            "off \t 947\n",
            "no \t 958\n",
            "down \t 963\n",
            "on \t 969\n",
            "right \t 979\n",
            "unknown \t 8190\n",
            "\n"
          ],
          "name": "stdout"
        }
      ]
    },
    {
      "cell_type": "markdown",
      "metadata": {
        "id": "UrG6Pd1TNlv8",
        "colab_type": "text"
      },
      "source": [
        "## Implementing CNN"
      ]
    },
    {
      "cell_type": "markdown",
      "metadata": {
        "id": "uzVMLfZl4i5y",
        "colab_type": "text"
      },
      "source": [
        "### Building & Training Model"
      ]
    },
    {
      "cell_type": "code",
      "metadata": {
        "id": "G2qWIshk2Wov",
        "colab_type": "code",
        "colab": {
          "base_uri": "https://localhost:8080/",
          "height": 1000
        },
        "outputId": "5f146472-8b64-4513-feee-7ee3ba7cea64"
      },
      "source": [
        "from keras.models import Sequential\n",
        "from keras.layers import LSTM, Dense, Activation, Flatten, Dropout, BatchNormalization, Conv1D, MaxPooling1D\n",
        "from keras.layers import Dense, Activation, Flatten, Dropout, BatchNormalization, Conv1D, MaxPooling1D\n",
        "from tensorflow.keras.callbacks import TensorBoard\n",
        "from keras.regularizers import l2\n",
        "\n",
        "model = Sequential()\n",
        "model.add(Conv1D(32, kernel_size=10, strides = 4, activation = 'swish', input_shape = xtrain.shape[1:]))\n",
        "model.add(BatchNormalization())\n",
        "model.add(MaxPooling1D(2))\n",
        "model.add(Dropout(0.1))\n",
        "\n",
        "model.add(Conv1D(128, kernel_size=1, strides = 1, activation = 'swish'))\n",
        "model.add(BatchNormalization())\n",
        "model.add(Dropout(0.1))\n",
        "\n",
        "model.add(Conv1D(64, kernel_size=10, strides = 4, activation = 'swish'))\n",
        "model.add(BatchNormalization())\n",
        "model.add(MaxPooling1D(3))\n",
        "model.add(Dropout(0.1))\n",
        "\n",
        "model.add(Conv1D(128, kernel_size=1, strides = 1, activation = 'swish'))\n",
        "model.add(BatchNormalization())\n",
        "model.add(Dropout(0.1))\n",
        "\n",
        "model.add(Conv1D(128, kernel_size=10, strides = 4, activation = 'swish'))\n",
        "model.add(BatchNormalization())\n",
        "model.add(MaxPooling1D(2))\n",
        "model.add(Dropout(0.1))\n",
        "\n",
        "model.add(Conv1D(128, kernel_size=1, strides = 1, activation = 'swish'))\n",
        "model.add(BatchNormalization())\n",
        "model.add(Dropout(0.1))\n",
        "\n",
        "model.add(Conv1D(256, kernel_size=10, strides = 4, activation = 'swish'))\n",
        "model.add(BatchNormalization())\n",
        "model.add(MaxPooling1D(2))\n",
        "model.add(Dropout(0.1))\n",
        "\n",
        "model.add(Dense(64, activation = 'swish'))\n",
        "model.add(Dense(len(mapping), activation = 'softmax'))\n",
        "\n",
        "model.summary()\n",
        "\n",
        "model.compile(loss='categorical_crossentropy', optimizer='adam', metrics=[f1, 'accuracy'])"
      ],
      "execution_count": 67,
      "outputs": [
        {
          "output_type": "stream",
          "text": [
            "Model: \"sequential_1\"\n",
            "_________________________________________________________________\n",
            "Layer (type)                 Output Shape              Param #   \n",
            "=================================================================\n",
            "conv1d_1 (Conv1D)            (None, 3998, 32)          352       \n",
            "_________________________________________________________________\n",
            "batch_normalization_1 (Batch (None, 3998, 32)          128       \n",
            "_________________________________________________________________\n",
            "max_pooling1d_1 (MaxPooling1 (None, 1999, 32)          0         \n",
            "_________________________________________________________________\n",
            "dropout_1 (Dropout)          (None, 1999, 32)          0         \n",
            "_________________________________________________________________\n",
            "conv1d_2 (Conv1D)            (None, 1999, 128)         4224      \n",
            "_________________________________________________________________\n",
            "batch_normalization_2 (Batch (None, 1999, 128)         512       \n",
            "_________________________________________________________________\n",
            "dropout_2 (Dropout)          (None, 1999, 128)         0         \n",
            "_________________________________________________________________\n",
            "conv1d_3 (Conv1D)            (None, 498, 64)           81984     \n",
            "_________________________________________________________________\n",
            "batch_normalization_3 (Batch (None, 498, 64)           256       \n",
            "_________________________________________________________________\n",
            "max_pooling1d_2 (MaxPooling1 (None, 166, 64)           0         \n",
            "_________________________________________________________________\n",
            "dropout_3 (Dropout)          (None, 166, 64)           0         \n",
            "_________________________________________________________________\n",
            "conv1d_4 (Conv1D)            (None, 166, 128)          8320      \n",
            "_________________________________________________________________\n",
            "batch_normalization_4 (Batch (None, 166, 128)          512       \n",
            "_________________________________________________________________\n",
            "dropout_4 (Dropout)          (None, 166, 128)          0         \n",
            "_________________________________________________________________\n",
            "conv1d_5 (Conv1D)            (None, 40, 128)           163968    \n",
            "_________________________________________________________________\n",
            "batch_normalization_5 (Batch (None, 40, 128)           512       \n",
            "_________________________________________________________________\n",
            "max_pooling1d_3 (MaxPooling1 (None, 20, 128)           0         \n",
            "_________________________________________________________________\n",
            "dropout_5 (Dropout)          (None, 20, 128)           0         \n",
            "_________________________________________________________________\n",
            "conv1d_6 (Conv1D)            (None, 20, 128)           16512     \n",
            "_________________________________________________________________\n",
            "batch_normalization_6 (Batch (None, 20, 128)           512       \n",
            "_________________________________________________________________\n",
            "dropout_6 (Dropout)          (None, 20, 128)           0         \n",
            "_________________________________________________________________\n",
            "conv1d_7 (Conv1D)            (None, 3, 256)            327936    \n",
            "_________________________________________________________________\n",
            "batch_normalization_7 (Batch (None, 3, 256)            1024      \n",
            "_________________________________________________________________\n",
            "max_pooling1d_4 (MaxPooling1 (None, 1, 256)            0         \n",
            "_________________________________________________________________\n",
            "dropout_7 (Dropout)          (None, 1, 256)            0         \n",
            "_________________________________________________________________\n",
            "dense_1 (Dense)              (None, 1, 64)             16448     \n",
            "_________________________________________________________________\n",
            "dense_2 (Dense)              (None, 1, 12)             780       \n",
            "=================================================================\n",
            "Total params: 623,980\n",
            "Trainable params: 622,252\n",
            "Non-trainable params: 1,728\n",
            "_________________________________________________________________\n"
          ],
          "name": "stdout"
        }
      ]
    },
    {
      "cell_type": "code",
      "metadata": {
        "id": "rnRlaOfg95F9",
        "colab_type": "code",
        "colab": {
          "base_uri": "https://localhost:8080/",
          "height": 392
        },
        "outputId": "40d24a4b-6460-4e3a-f91d-19f60be23159"
      },
      "source": [
        "history = model.fit(xtrain, ytrain, batch_size=128, validation_data=(xval, yval), epochs=50, shuffle=True, verbose=1)"
      ],
      "execution_count": 69,
      "outputs": [
        {
          "output_type": "stream",
          "text": [
            "Train on 73114 samples, validate on 18279 samples\n",
            "Epoch 1/50\n",
            " 5760/73114 [=>............................] - ETA: 25:57 - loss: nan - f1: nan - accuracy: 0.0536"
          ],
          "name": "stdout"
        },
        {
          "output_type": "error",
          "ename": "KeyboardInterrupt",
          "evalue": "ignored",
          "traceback": [
            "\u001b[0;31m---------------------------------------------------------------------------\u001b[0m",
            "\u001b[0;31mKeyboardInterrupt\u001b[0m                         Traceback (most recent call last)",
            "\u001b[0;32m<ipython-input-69-f7bfb0043dd7>\u001b[0m in \u001b[0;36m<module>\u001b[0;34m()\u001b[0m\n\u001b[0;32m----> 1\u001b[0;31m \u001b[0mhistory\u001b[0m \u001b[0;34m=\u001b[0m \u001b[0mmodel\u001b[0m\u001b[0;34m.\u001b[0m\u001b[0mfit\u001b[0m\u001b[0;34m(\u001b[0m\u001b[0mxtrain\u001b[0m\u001b[0;34m,\u001b[0m \u001b[0mytrain\u001b[0m\u001b[0;34m,\u001b[0m \u001b[0mbatch_size\u001b[0m\u001b[0;34m=\u001b[0m\u001b[0;36m128\u001b[0m\u001b[0;34m,\u001b[0m \u001b[0mvalidation_data\u001b[0m\u001b[0;34m=\u001b[0m\u001b[0;34m(\u001b[0m\u001b[0mxval\u001b[0m\u001b[0;34m,\u001b[0m \u001b[0myval\u001b[0m\u001b[0;34m)\u001b[0m\u001b[0;34m,\u001b[0m \u001b[0mepochs\u001b[0m\u001b[0;34m=\u001b[0m\u001b[0;36m50\u001b[0m\u001b[0;34m,\u001b[0m \u001b[0mshuffle\u001b[0m\u001b[0;34m=\u001b[0m\u001b[0;32mTrue\u001b[0m\u001b[0;34m,\u001b[0m \u001b[0mverbose\u001b[0m\u001b[0;34m=\u001b[0m\u001b[0;36m1\u001b[0m\u001b[0;34m)\u001b[0m\u001b[0;34m\u001b[0m\u001b[0;34m\u001b[0m\u001b[0m\n\u001b[0m",
            "\u001b[0;32m/usr/local/lib/python3.6/dist-packages/keras/engine/training.py\u001b[0m in \u001b[0;36mfit\u001b[0;34m(self, x, y, batch_size, epochs, verbose, callbacks, validation_split, validation_data, shuffle, class_weight, sample_weight, initial_epoch, steps_per_epoch, validation_steps, validation_freq, max_queue_size, workers, use_multiprocessing, **kwargs)\u001b[0m\n\u001b[1;32m   1237\u001b[0m                                         \u001b[0msteps_per_epoch\u001b[0m\u001b[0;34m=\u001b[0m\u001b[0msteps_per_epoch\u001b[0m\u001b[0;34m,\u001b[0m\u001b[0;34m\u001b[0m\u001b[0;34m\u001b[0m\u001b[0m\n\u001b[1;32m   1238\u001b[0m                                         \u001b[0mvalidation_steps\u001b[0m\u001b[0;34m=\u001b[0m\u001b[0mvalidation_steps\u001b[0m\u001b[0;34m,\u001b[0m\u001b[0;34m\u001b[0m\u001b[0;34m\u001b[0m\u001b[0m\n\u001b[0;32m-> 1239\u001b[0;31m                                         validation_freq=validation_freq)\n\u001b[0m\u001b[1;32m   1240\u001b[0m \u001b[0;34m\u001b[0m\u001b[0m\n\u001b[1;32m   1241\u001b[0m     def evaluate(self,\n",
            "\u001b[0;32m/usr/local/lib/python3.6/dist-packages/keras/engine/training_arrays.py\u001b[0m in \u001b[0;36mfit_loop\u001b[0;34m(model, fit_function, fit_inputs, out_labels, batch_size, epochs, verbose, callbacks, val_function, val_inputs, shuffle, initial_epoch, steps_per_epoch, validation_steps, validation_freq)\u001b[0m\n\u001b[1;32m    194\u001b[0m                     \u001b[0mins_batch\u001b[0m\u001b[0;34m[\u001b[0m\u001b[0mi\u001b[0m\u001b[0;34m]\u001b[0m \u001b[0;34m=\u001b[0m \u001b[0mins_batch\u001b[0m\u001b[0;34m[\u001b[0m\u001b[0mi\u001b[0m\u001b[0;34m]\u001b[0m\u001b[0;34m.\u001b[0m\u001b[0mtoarray\u001b[0m\u001b[0;34m(\u001b[0m\u001b[0;34m)\u001b[0m\u001b[0;34m\u001b[0m\u001b[0;34m\u001b[0m\u001b[0m\n\u001b[1;32m    195\u001b[0m \u001b[0;34m\u001b[0m\u001b[0m\n\u001b[0;32m--> 196\u001b[0;31m                 \u001b[0mouts\u001b[0m \u001b[0;34m=\u001b[0m \u001b[0mfit_function\u001b[0m\u001b[0;34m(\u001b[0m\u001b[0mins_batch\u001b[0m\u001b[0;34m)\u001b[0m\u001b[0;34m\u001b[0m\u001b[0;34m\u001b[0m\u001b[0m\n\u001b[0m\u001b[1;32m    197\u001b[0m                 \u001b[0mouts\u001b[0m \u001b[0;34m=\u001b[0m \u001b[0mto_list\u001b[0m\u001b[0;34m(\u001b[0m\u001b[0mouts\u001b[0m\u001b[0;34m)\u001b[0m\u001b[0;34m\u001b[0m\u001b[0;34m\u001b[0m\u001b[0m\n\u001b[1;32m    198\u001b[0m                 \u001b[0;32mfor\u001b[0m \u001b[0ml\u001b[0m\u001b[0;34m,\u001b[0m \u001b[0mo\u001b[0m \u001b[0;32min\u001b[0m \u001b[0mzip\u001b[0m\u001b[0;34m(\u001b[0m\u001b[0mout_labels\u001b[0m\u001b[0;34m,\u001b[0m \u001b[0mouts\u001b[0m\u001b[0;34m)\u001b[0m\u001b[0;34m:\u001b[0m\u001b[0;34m\u001b[0m\u001b[0;34m\u001b[0m\u001b[0m\n",
            "\u001b[0;32m/usr/local/lib/python3.6/dist-packages/tensorflow/python/keras/backend.py\u001b[0m in \u001b[0;36m__call__\u001b[0;34m(self, inputs)\u001b[0m\n\u001b[1;32m   3790\u001b[0m         \u001b[0mvalue\u001b[0m \u001b[0;34m=\u001b[0m \u001b[0mmath_ops\u001b[0m\u001b[0;34m.\u001b[0m\u001b[0mcast\u001b[0m\u001b[0;34m(\u001b[0m\u001b[0mvalue\u001b[0m\u001b[0;34m,\u001b[0m \u001b[0mtensor\u001b[0m\u001b[0;34m.\u001b[0m\u001b[0mdtype\u001b[0m\u001b[0;34m)\u001b[0m\u001b[0;34m\u001b[0m\u001b[0;34m\u001b[0m\u001b[0m\n\u001b[1;32m   3791\u001b[0m       \u001b[0mconverted_inputs\u001b[0m\u001b[0;34m.\u001b[0m\u001b[0mappend\u001b[0m\u001b[0;34m(\u001b[0m\u001b[0mvalue\u001b[0m\u001b[0;34m)\u001b[0m\u001b[0;34m\u001b[0m\u001b[0;34m\u001b[0m\u001b[0m\n\u001b[0;32m-> 3792\u001b[0;31m     \u001b[0moutputs\u001b[0m \u001b[0;34m=\u001b[0m \u001b[0mself\u001b[0m\u001b[0;34m.\u001b[0m\u001b[0m_graph_fn\u001b[0m\u001b[0;34m(\u001b[0m\u001b[0;34m*\u001b[0m\u001b[0mconverted_inputs\u001b[0m\u001b[0;34m)\u001b[0m\u001b[0;34m\u001b[0m\u001b[0;34m\u001b[0m\u001b[0m\n\u001b[0m\u001b[1;32m   3793\u001b[0m \u001b[0;34m\u001b[0m\u001b[0m\n\u001b[1;32m   3794\u001b[0m     \u001b[0;31m# EagerTensor.numpy() will often make a copy to ensure memory safety.\u001b[0m\u001b[0;34m\u001b[0m\u001b[0;34m\u001b[0m\u001b[0;34m\u001b[0m\u001b[0m\n",
            "\u001b[0;32m/usr/local/lib/python3.6/dist-packages/tensorflow/python/eager/function.py\u001b[0m in \u001b[0;36m__call__\u001b[0;34m(self, *args, **kwargs)\u001b[0m\n\u001b[1;32m   1603\u001b[0m       \u001b[0mTypeError\u001b[0m\u001b[0;34m:\u001b[0m \u001b[0mFor\u001b[0m \u001b[0minvalid\u001b[0m \u001b[0mpositional\u001b[0m\u001b[0;34m/\u001b[0m\u001b[0mkeyword\u001b[0m \u001b[0margument\u001b[0m \u001b[0mcombinations\u001b[0m\u001b[0;34m.\u001b[0m\u001b[0;34m\u001b[0m\u001b[0;34m\u001b[0m\u001b[0m\n\u001b[1;32m   1604\u001b[0m     \"\"\"\n\u001b[0;32m-> 1605\u001b[0;31m     \u001b[0;32mreturn\u001b[0m \u001b[0mself\u001b[0m\u001b[0;34m.\u001b[0m\u001b[0m_call_impl\u001b[0m\u001b[0;34m(\u001b[0m\u001b[0margs\u001b[0m\u001b[0;34m,\u001b[0m \u001b[0mkwargs\u001b[0m\u001b[0;34m)\u001b[0m\u001b[0;34m\u001b[0m\u001b[0;34m\u001b[0m\u001b[0m\n\u001b[0m\u001b[1;32m   1606\u001b[0m \u001b[0;34m\u001b[0m\u001b[0m\n\u001b[1;32m   1607\u001b[0m   \u001b[0;32mdef\u001b[0m \u001b[0m_call_impl\u001b[0m\u001b[0;34m(\u001b[0m\u001b[0mself\u001b[0m\u001b[0;34m,\u001b[0m \u001b[0margs\u001b[0m\u001b[0;34m,\u001b[0m \u001b[0mkwargs\u001b[0m\u001b[0;34m,\u001b[0m \u001b[0mcancellation_manager\u001b[0m\u001b[0;34m=\u001b[0m\u001b[0;32mNone\u001b[0m\u001b[0;34m)\u001b[0m\u001b[0;34m:\u001b[0m\u001b[0;34m\u001b[0m\u001b[0;34m\u001b[0m\u001b[0m\n",
            "\u001b[0;32m/usr/local/lib/python3.6/dist-packages/tensorflow/python/eager/function.py\u001b[0m in \u001b[0;36m_call_impl\u001b[0;34m(self, args, kwargs, cancellation_manager)\u001b[0m\n\u001b[1;32m   1643\u001b[0m       raise TypeError(\"Keyword arguments {} unknown. Expected {}.\".format(\n\u001b[1;32m   1644\u001b[0m           list(kwargs.keys()), list(self._arg_keywords)))\n\u001b[0;32m-> 1645\u001b[0;31m     \u001b[0;32mreturn\u001b[0m \u001b[0mself\u001b[0m\u001b[0;34m.\u001b[0m\u001b[0m_call_flat\u001b[0m\u001b[0;34m(\u001b[0m\u001b[0margs\u001b[0m\u001b[0;34m,\u001b[0m \u001b[0mself\u001b[0m\u001b[0;34m.\u001b[0m\u001b[0mcaptured_inputs\u001b[0m\u001b[0;34m,\u001b[0m \u001b[0mcancellation_manager\u001b[0m\u001b[0;34m)\u001b[0m\u001b[0;34m\u001b[0m\u001b[0;34m\u001b[0m\u001b[0m\n\u001b[0m\u001b[1;32m   1646\u001b[0m \u001b[0;34m\u001b[0m\u001b[0m\n\u001b[1;32m   1647\u001b[0m   \u001b[0;32mdef\u001b[0m \u001b[0m_filtered_call\u001b[0m\u001b[0;34m(\u001b[0m\u001b[0mself\u001b[0m\u001b[0;34m,\u001b[0m \u001b[0margs\u001b[0m\u001b[0;34m,\u001b[0m \u001b[0mkwargs\u001b[0m\u001b[0;34m)\u001b[0m\u001b[0;34m:\u001b[0m\u001b[0;34m\u001b[0m\u001b[0;34m\u001b[0m\u001b[0m\n",
            "\u001b[0;32m/usr/local/lib/python3.6/dist-packages/tensorflow/python/eager/function.py\u001b[0m in \u001b[0;36m_call_flat\u001b[0;34m(self, args, captured_inputs, cancellation_manager)\u001b[0m\n\u001b[1;32m   1744\u001b[0m       \u001b[0;31m# No tape is watching; skip to running the function.\u001b[0m\u001b[0;34m\u001b[0m\u001b[0;34m\u001b[0m\u001b[0;34m\u001b[0m\u001b[0m\n\u001b[1;32m   1745\u001b[0m       return self._build_call_outputs(self._inference_function.call(\n\u001b[0;32m-> 1746\u001b[0;31m           ctx, args, cancellation_manager=cancellation_manager))\n\u001b[0m\u001b[1;32m   1747\u001b[0m     forward_backward = self._select_forward_and_backward_functions(\n\u001b[1;32m   1748\u001b[0m         \u001b[0margs\u001b[0m\u001b[0;34m,\u001b[0m\u001b[0;34m\u001b[0m\u001b[0;34m\u001b[0m\u001b[0m\n",
            "\u001b[0;32m/usr/local/lib/python3.6/dist-packages/tensorflow/python/eager/function.py\u001b[0m in \u001b[0;36mcall\u001b[0;34m(self, ctx, args, cancellation_manager)\u001b[0m\n\u001b[1;32m    596\u001b[0m               \u001b[0minputs\u001b[0m\u001b[0;34m=\u001b[0m\u001b[0margs\u001b[0m\u001b[0;34m,\u001b[0m\u001b[0;34m\u001b[0m\u001b[0;34m\u001b[0m\u001b[0m\n\u001b[1;32m    597\u001b[0m               \u001b[0mattrs\u001b[0m\u001b[0;34m=\u001b[0m\u001b[0mattrs\u001b[0m\u001b[0;34m,\u001b[0m\u001b[0;34m\u001b[0m\u001b[0;34m\u001b[0m\u001b[0m\n\u001b[0;32m--> 598\u001b[0;31m               ctx=ctx)\n\u001b[0m\u001b[1;32m    599\u001b[0m         \u001b[0;32melse\u001b[0m\u001b[0;34m:\u001b[0m\u001b[0;34m\u001b[0m\u001b[0;34m\u001b[0m\u001b[0m\n\u001b[1;32m    600\u001b[0m           outputs = execute.execute_with_cancellation(\n",
            "\u001b[0;32m/usr/local/lib/python3.6/dist-packages/tensorflow/python/eager/execute.py\u001b[0m in \u001b[0;36mquick_execute\u001b[0;34m(op_name, num_outputs, inputs, attrs, ctx, name)\u001b[0m\n\u001b[1;32m     58\u001b[0m     \u001b[0mctx\u001b[0m\u001b[0;34m.\u001b[0m\u001b[0mensure_initialized\u001b[0m\u001b[0;34m(\u001b[0m\u001b[0;34m)\u001b[0m\u001b[0;34m\u001b[0m\u001b[0;34m\u001b[0m\u001b[0m\n\u001b[1;32m     59\u001b[0m     tensors = pywrap_tfe.TFE_Py_Execute(ctx._handle, device_name, op_name,\n\u001b[0;32m---> 60\u001b[0;31m                                         inputs, attrs, num_outputs)\n\u001b[0m\u001b[1;32m     61\u001b[0m   \u001b[0;32mexcept\u001b[0m \u001b[0mcore\u001b[0m\u001b[0;34m.\u001b[0m\u001b[0m_NotOkStatusException\u001b[0m \u001b[0;32mas\u001b[0m \u001b[0me\u001b[0m\u001b[0;34m:\u001b[0m\u001b[0;34m\u001b[0m\u001b[0;34m\u001b[0m\u001b[0m\n\u001b[1;32m     62\u001b[0m     \u001b[0;32mif\u001b[0m \u001b[0mname\u001b[0m \u001b[0;32mis\u001b[0m \u001b[0;32mnot\u001b[0m \u001b[0;32mNone\u001b[0m\u001b[0;34m:\u001b[0m\u001b[0;34m\u001b[0m\u001b[0;34m\u001b[0m\u001b[0m\n",
            "\u001b[0;31mKeyboardInterrupt\u001b[0m: "
          ]
        }
      ]
    },
    {
      "cell_type": "markdown",
      "metadata": {
        "id": "_UN7Uisu1Rrc",
        "colab_type": "text"
      },
      "source": [
        "### Evaluating Model"
      ]
    },
    {
      "cell_type": "code",
      "metadata": {
        "id": "MBwDSoPC1Qxk",
        "colab_type": "code",
        "colab": {}
      },
      "source": [
        "performance_curves(history, model.metrics_names)"
      ],
      "execution_count": null,
      "outputs": []
    },
    {
      "cell_type": "code",
      "metadata": {
        "id": "aD74dkha47E5",
        "colab_type": "code",
        "colab": {}
      },
      "source": [
        "scores = model.evaluate(xval, yval, verbose=0)\n",
        "\n",
        "for metric_name, evalutaion in zip(model.metrics_names, scores):\n",
        "  print(metric_name, evalutaion * 100)"
      ],
      "execution_count": null,
      "outputs": []
    },
    {
      "cell_type": "code",
      "metadata": {
        "id": "LIMkJJhz3F3S",
        "colab_type": "code",
        "colab": {}
      },
      "source": [
        "model.save('CNN')  \n",
        "del model \n",
        "\n",
        "import pandas as pd\n",
        "df = pd.DataFrame(data=maptolable, index=[0])\n",
        "df = (df.T)\n",
        "\n",
        "df.to_csv('label_mappings.csv')\n",
        "\n",
        "\n",
        "model = keras.models.load_model('CNN', custom_objects={'f1':f1})\n",
        "\n",
        "scores = model.evaluate(Xfinal, Yonehot, verbose=0)\n",
        "for metric_name, evalutaion in zip(model.metrics_names, scores):\n",
        "  print(metric_name, evalutaion * 100)"
      ],
      "execution_count": null,
      "outputs": []
    },
    {
      "cell_type": "markdown",
      "metadata": {
        "id": "RZroYGfR1BxA",
        "colab_type": "text"
      },
      "source": [
        "## Generating Test Data Predictions"
      ]
    },
    {
      "cell_type": "code",
      "metadata": {
        "id": "kN0--5ubAB64",
        "colab_type": "code",
        "colab": {}
      },
      "source": [
        "# !p7zip -d test.7z > /dev/null"
      ],
      "execution_count": null,
      "outputs": []
    },
    {
      "cell_type": "code",
      "metadata": {
        "id": "99aUXO79yFyE",
        "colab_type": "code",
        "colab": {}
      },
      "source": [
        "# mappings = {}\n",
        "# maptoLabel = {}\n",
        "# with open('mappings.csv', mode='r') as infile:\n",
        "#     reader = csv.reader(infile)\n",
        "\n",
        "#     for i, row in enumerate(reader):\n",
        "#         temp = [0]*12\n",
        "#         temp[i] = 1\n",
        "#         mappings[row[0]] = temp\n",
        "#         maptoLabel[i] = row[0]\n",
        "\n",
        "# test = []\n",
        "# with open('sample_submission.csv',mode='r') as infile:\n",
        "#     reader = csv.reader(infile)\n",
        "\n",
        "#     for row in reader:\n",
        "#         test.append(row[0])\n",
        "\n",
        "# test.pop(0)\n",
        "# print(len(test), test[0])\n"
      ],
      "execution_count": null,
      "outputs": []
    },
    {
      "cell_type": "code",
      "metadata": {
        "id": "kjlfFBDx0hI7",
        "colab_type": "code",
        "colab": {}
      },
      "source": [
        "# model = keras.models.load_model('CNN', custom_objects={'f1':f1})\n",
        "\n",
        "# test_audio_path = '/content/test/audio'\n",
        "\n",
        "# ypred = []\n",
        "# for filename in test:\n",
        "#   audio = get_wav(test_audio_path + '/' + filename)\n",
        "#   audio = audio.reshape(-1, 16000, 1)\n",
        "#   pred = model.predict(audio)\n",
        "#   ypred.append(np.argmax(pred[0][0], axis=0))"
      ],
      "execution_count": null,
      "outputs": []
    },
    {
      "cell_type": "code",
      "metadata": {
        "id": "dGe6JCge3FUK",
        "colab_type": "code",
        "colab": {}
      },
      "source": [
        "# import pandas as pd\n",
        "# final = []\n",
        "\n",
        "# for pred in ypred:\n",
        "#   final.append(maptoLabel[pred])\n",
        "\n",
        "# df = pd.DataFrame(final)\n",
        "# df.to_csv ('final_df.csv', index = False)"
      ],
      "execution_count": null,
      "outputs": []
    },
    {
      "cell_type": "code",
      "metadata": {
        "id": "AgthRWjRApmz",
        "colab_type": "code",
        "colab": {}
      },
      "source": [
        "print(maptolable)"
      ],
      "execution_count": null,
      "outputs": []
    }
  ]
}