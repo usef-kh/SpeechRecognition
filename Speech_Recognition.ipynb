{
  "nbformat": 4,
  "nbformat_minor": 0,
  "metadata": {
    "colab": {
      "name": "Speech Recognition.ipynb",
      "provenance": [],
      "collapsed_sections": []
    },
    "kernelspec": {
      "name": "python3",
      "display_name": "Python 3"
    },
    "accelerator": "GPU"
  },
  "cells": [
    {
      "cell_type": "code",
      "metadata": {
        "id": "TtaapejCCYxJ",
        "colab_type": "code",
        "colab": {
          "resources": {
            "http://localhost:8080/nbextensions/google.colab/files.js": {
              "data": "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",
              "ok": true,
              "headers": [
                [
                  "content-type",
                  "application/javascript"
                ]
              ],
              "status": 200,
              "status_text": ""
            }
          },
          "base_uri": "https://localhost:8080/",
          "height": 145
        },
        "outputId": "1ed5b27e-f06b-4ed1-9873-654ba77ab285"
      },
      "source": [
        "# Load Kaggle API Token\n",
        "from google.colab import files\n",
        "!pip install -q kaggle > /dev/null\n",
        "uploaded = files.upload()\n",
        "!mkdir ~/.kaggle\n",
        "!cp /content/kaggle.json ~/.kaggle/kaggle.json\n",
        "!chmod 600 /root/.kaggle/kaggle.json\n",
        "\n",
        "# Load Data\n",
        "!kaggle competitions download -c tensorflow-speech-recognition-challenge > /dev/null\n",
        "\n",
        "# Unzip Data\n",
        "!apt-get install p7zip-full > /dev/null\n",
        "!p7zip -d train.7z > /dev/null\n",
        "# !p7zip -d test.7z > /dev/null\n"
      ],
      "execution_count": 1,
      "outputs": [
        {
          "output_type": "display_data",
          "data": {
            "text/html": [
              "\n",
              "     <input type=\"file\" id=\"files-c775b74e-cbfb-405e-adf0-3c62cb69d306\" name=\"files[]\" multiple disabled\n",
              "        style=\"border:none\" />\n",
              "     <output id=\"result-c775b74e-cbfb-405e-adf0-3c62cb69d306\">\n",
              "      Upload widget is only available when the cell has been executed in the\n",
              "      current browser session. Please rerun this cell to enable.\n",
              "      </output>\n",
              "      <script src=\"/nbextensions/google.colab/files.js\"></script> "
            ],
            "text/plain": [
              "<IPython.core.display.HTML object>"
            ]
          },
          "metadata": {
            "tags": []
          }
        },
        {
          "output_type": "stream",
          "text": [
            "Saving kaggle.json to kaggle.json\n",
            "100% 501k/501k [00:00<00:00, 34.2MB/s]\n",
            "100% 50.0/50.0 [00:00<00:00, 47.6kB/s]\n",
            "100% 2.46G/2.46G [00:37<00:00, 69.5MB/s]\n",
            "100% 1.04G/1.04G [00:23<00:00, 48.2MB/s]\n"
          ],
          "name": "stdout"
        }
      ]
    },
    {
      "cell_type": "code",
      "metadata": {
        "id": "jUhhRoprHZJi",
        "colab_type": "code",
        "colab": {
          "base_uri": "https://localhost:8080/",
          "height": 599
        },
        "outputId": "032bceed-c54e-40d3-a7f3-c49d94d4cbaf"
      },
      "source": [
        "from scipy.io import wavfile\n",
        "from IPython.display import Audio\n",
        "from os import walk\n",
        "from matplotlib import pyplot as plt\n",
        "\n",
        "debug = True\n",
        "\n",
        "train_audio_path = '/content/train/audio/'\n",
        "\n",
        "# Load all filenames into a dictionary so we can call on them easily\n",
        "files = {}\n",
        "for (dirpath, dirnames, filenames) in walk(train_audio_path):\n",
        "  files[dirpath[21:]] = filenames\n",
        "\n",
        "if debug:\n",
        "  # Look at a small part of the dictionary\n",
        "  for label, samples in files.items():\n",
        "    print(label, '\\t', samples[0:5])"
      ],
      "execution_count": 14,
      "outputs": [
        {
          "output_type": "stream",
          "text": [
            " \t []\n",
            "five \t ['38d78313_nohash_4.wav', '8fe52b97_nohash_1.wav', 'f804cbb3_nohash_0.wav', '833a0279_nohash_2.wav', 'd85270c1_nohash_2.wav']\n",
            "marvin \t ['bed06fac_nohash_1.wav', '8fe52b97_nohash_1.wav', '7be9f58a_nohash_0.wav', '27c30960_nohash_0.wav', 'e649aa92_nohash_0.wav']\n",
            "nine \t ['38d78313_nohash_4.wav', 'bed06fac_nohash_1.wav', '7be9f58a_nohash_0.wav', '43b85b64_nohash_1.wav', '5de8f2f0_nohash_2.wav']\n",
            "up \t ['38d78313_nohash_4.wav', '27c30960_nohash_0.wav', 'e649aa92_nohash_0.wav', 'c08e5058_nohash_0.wav', '1890e5c3_nohash_2.wav']\n",
            "right \t ['38d78313_nohash_4.wav', '8fe52b97_nohash_1.wav', 'eee9b9e2_nohash_2.wav', '7be9f58a_nohash_0.wav', 'e649aa92_nohash_0.wav']\n",
            "six \t ['38d78313_nohash_4.wav', 'bed06fac_nohash_1.wav', '8335f893_nohash_1.wav', '7be9f58a_nohash_0.wav', '27c30960_nohash_0.wav']\n",
            "wow \t ['bed06fac_nohash_1.wav', '8fe52b97_nohash_1.wav', '43b85b64_nohash_1.wav', '6823565f_nohash_2.wav', 'f804cbb3_nohash_0.wav']\n",
            "down \t ['38d78313_nohash_4.wav', 'a40c62f1_nohash_2.wav', '8335f893_nohash_1.wav', '27c30960_nohash_0.wav', 'f804cbb3_nohash_0.wav']\n",
            "left \t ['38d78313_nohash_4.wav', '8335f893_nohash_1.wav', '7be9f58a_nohash_0.wav', '6823565f_nohash_2.wav', '27c30960_nohash_0.wav']\n",
            "happy \t ['eee9b9e2_nohash_2.wav', '3cfc6b3a_nohash_2.wav', '27c30960_nohash_0.wav', 'abbfc3b4_nohash_2.wav', 'e649aa92_nohash_0.wav']\n",
            "seven \t ['38d78313_nohash_4.wav', '8335f893_nohash_1.wav', '43b85b64_nohash_1.wav', '27c30960_nohash_0.wav', 'f804cbb3_nohash_0.wav']\n",
            "cat \t ['981e2a16_nohash_2.wav', 'f804cbb3_nohash_0.wav', 'e649aa92_nohash_0.wav', 'c08e5058_nohash_0.wav', 'a8f45bdc_nohash_1.wav']\n",
            "three \t ['38d78313_nohash_4.wav', 'acfd3bc3_nohash_2.wav', '8fe52b97_nohash_1.wav', '7be9f58a_nohash_0.wav', '27c30960_nohash_0.wav']\n",
            "bed \t ['bed06fac_nohash_1.wav', '43b85b64_nohash_1.wav', 'f804cbb3_nohash_0.wav', 'e649aa92_nohash_0.wav', 'c08e5058_nohash_0.wav']\n",
            "yes \t ['38d78313_nohash_4.wav', '7be9f58a_nohash_0.wav', '27c30960_nohash_0.wav', 'f804cbb3_nohash_0.wav', 'e649aa92_nohash_0.wav']\n",
            "one \t ['38d78313_nohash_4.wav', '8335f893_nohash_1.wav', 'eee9b9e2_nohash_2.wav', '7be9f58a_nohash_0.wav', '43b85b64_nohash_1.wav']\n",
            "_background_noise_ \t ['white_noise.wav', 'README.md', 'running_tap.wav', 'dude_miaowing.wav', 'pink_noise.wav']\n",
            "bird \t ['acfd3bc3_nohash_2.wav', '27c30960_nohash_0.wav', 'f804cbb3_nohash_0.wav', 'e649aa92_nohash_0.wav', 'c08e5058_nohash_0.wav']\n",
            "eight \t ['38d78313_nohash_4.wav', '3cfc6b3a_nohash_2.wav', '27c30960_nohash_0.wav', 'e649aa92_nohash_0.wav', 'c08e5058_nohash_0.wav']\n",
            "tree \t ['7be9f58a_nohash_0.wav', '6823565f_nohash_2.wav', '27c30960_nohash_0.wav', 'f804cbb3_nohash_0.wav', 'c08e5058_nohash_0.wav']\n",
            "zero \t ['38d78313_nohash_4.wav', 'bed06fac_nohash_1.wav', '8335f893_nohash_1.wav', '7be9f58a_nohash_0.wav', 'f804cbb3_nohash_0.wav']\n",
            "four \t ['38d78313_nohash_4.wav', '7be9f58a_nohash_0.wav', '43b85b64_nohash_1.wav', '27c30960_nohash_0.wav', 'c08e5058_nohash_0.wav']\n",
            "off \t ['38d78313_nohash_4.wav', '7be9f58a_nohash_0.wav', '3cfc6b3a_nohash_2.wav', '27c30960_nohash_0.wav', 'f804cbb3_nohash_0.wav']\n",
            "sheila \t ['f804cbb3_nohash_0.wav', 'e649aa92_nohash_0.wav', 'c08e5058_nohash_0.wav', 'a8f45bdc_nohash_1.wav', 'b487da60_nohash_1.wav']\n",
            "no \t ['38d78313_nohash_4.wav', '8fe52b97_nohash_1.wav', '7be9f58a_nohash_0.wav', '27c30960_nohash_0.wav', 'f804cbb3_nohash_0.wav']\n",
            "go \t ['38d78313_nohash_4.wav', '7be9f58a_nohash_0.wav', 'ec201020_nohash_5.wav', 'f804cbb3_nohash_0.wav', '9d171fee_nohash_2.wav']\n",
            "stop \t ['38d78313_nohash_4.wav', 'acfd3bc3_nohash_2.wav', '8335f893_nohash_1.wav', '7be9f58a_nohash_0.wav', '27c30960_nohash_0.wav']\n",
            "dog \t ['bed06fac_nohash_1.wav', '8335f893_nohash_1.wav', '7be9f58a_nohash_0.wav', '43b85b64_nohash_1.wav', '27c30960_nohash_0.wav']\n",
            "on \t ['38d78313_nohash_4.wav', '8fe52b97_nohash_1.wav', '7be9f58a_nohash_0.wav', '27c30960_nohash_0.wav', 'e649aa92_nohash_0.wav']\n",
            "two \t ['38d78313_nohash_4.wav', 'bed06fac_nohash_1.wav', '8fe52b97_nohash_1.wav', '8335f893_nohash_1.wav', '7be9f58a_nohash_0.wav']\n",
            "house \t ['a40c62f1_nohash_2.wav', '8335f893_nohash_1.wav', '7be9f58a_nohash_0.wav', '3bdf05d3_nohash_1.wav', '1f653d27_nohash_1.wav']\n"
          ],
          "name": "stdout"
        }
      ]
    },
    {
      "cell_type": "code",
      "metadata": {
        "id": "ngBpZSadzKxv",
        "colab_type": "code",
        "colab": {}
      },
      "source": [
        "import librosa\n",
        "import librosa.display\n",
        "from scipy import signal\n",
        "\n",
        "def loadData(files):\n",
        "  # Build Dataset\n",
        "  new_rate = 8000\n",
        "  xtrain, ytrain = [], []\n",
        "  count = 0\n",
        "  for label, filenames in files.items():\n",
        "    if label not in ['', '_background_noise_']:\n",
        "      for i, filename in enumerate(filenames[:50]):\n",
        "        if i == 0:\n",
        "          print(count)\n",
        "          count += 1\n",
        "        audio, new_rate = librosa.load(train_audio_path + label + '/' + filename, sr=new_rate)\n",
        "        _, _, spectogram = log_specgram(audio, sample_rate=new_rate)\n",
        "        \n",
        "        xtrain.append(spectogram)\n",
        "        ytrain.append(label)\n",
        "\n",
        "        # mfccs = librosa.feature.mfcc(y=audio, sr=new_rate, n_mfcc = 50)\n",
        "        # mfccs_processed = np.mean(mfccs.T,axis=0)\n",
        "        \n",
        "  return np.array(xtrain), np.array(ytrain)\n",
        "\n",
        "def onehot(A, mapping=None):\n",
        "  labels = set('yes', 'no', 'up', 'down', 'left', 'right', 'on', 'off', 'stop', 'go', 'silence', 'unknown')\n",
        "  \n",
        "  if mapping is None:\n",
        "    mapping = {}\n",
        "    for i, label in enumerate(labels):\n",
        "      temp = [0] * len(labels)\n",
        "      temp[i] = 1\n",
        "      mapping[label] = temp\n",
        "    \n",
        "  res = []\n",
        "  for label in A:\n",
        "    if label == '_background_noise_':\n",
        "      res.append(mapping['silence'])\n",
        "    elif label in labels:\n",
        "      res.append(mapping[label])\n",
        "    else:\n",
        "      res.append(mapping['unknown'])\n",
        "  \n",
        "  return np.array(res), mapping\n",
        "\n",
        "def log_specgram(audio, sample_rate, window_size=20, step_size=10, eps=1e-10):\n",
        "    nperseg = int(round(window_size * sample_rate / 1e3))\n",
        "    noverlap = int(round(step_size * sample_rate / 1e3))\n",
        "    freqs, times, spec = signal.spectrogram(audio,\n",
        "                                    fs=sample_rate,\n",
        "                                    window='hann',\n",
        "                                    nperseg=nperseg,\n",
        "                                    noverlap=noverlap,\n",
        "                                    detrend=False)\n",
        "    return freqs, times, np.log(spec.T.astype(np.float32) + eps)\n",
        "    \n",
        "def normalize(x):\n",
        "  minX = np.amin(x)\n",
        "  maxX = np.amax(x)\n",
        "  gap = maxX - minX\n",
        "\n",
        "  return (x - (minX + 0.5*gap)) / (0.5 * gap)"
      ],
      "execution_count": 120,
      "outputs": []
    },
    {
      "cell_type": "code",
      "metadata": {
        "id": "mdTWNDq255jc",
        "colab_type": "code",
        "colab": {}
      },
      "source": [
        "X, Y = loadData(files)"
      ],
      "execution_count": null,
      "outputs": []
    },
    {
      "cell_type": "code",
      "metadata": {
        "id": "GmgUK5wFMpC6",
        "colab_type": "code",
        "colab": {}
      },
      "source": [
        "X = X.reshape(X.shape[0], 1, X[0].shape[0])\n",
        "Y, mapping = onehot(Y)\n",
        "X = normalize(xtrain)\n",
        "\n",
        "xtrain, xval, ytrain, yval = train_test_split(X, Y, test_size=0.2, random_state=127)\n",
        "\n",
        "print(A.shape, Y.shape)"
      ],
      "execution_count": null,
      "outputs": []
    },
    {
      "cell_type": "code",
      "metadata": {
        "id": "rBMGNFoN-udA",
        "colab_type": "code",
        "colab": {}
      },
      "source": [
        "from keras.models import Sequential\n",
        "from keras.layers import LSTM, Dense, Activation, Flatten\n",
        "\n",
        "model = Sequential()\n",
        "model.add(LSTM(32, return_sequences = True, input_shape = xtrain.shape[1:], activation = 'relu'))\n",
        "model.add(LSTM(128, activation = 'relu'))\n",
        "\n",
        "model.add(Dense(512, activation = 'relu'))\n",
        "model.add(Dense(128, activation = 'relu'))\n",
        "\n",
        "model.add(Dense(len(mapping), activation = 'softmax'))\n",
        "model.summary()\n",
        "\n",
        "model.compile(loss='categorical_crossentropy', optimizer='adam', metrics=['accuracy'])"
      ],
      "execution_count": null,
      "outputs": []
    },
    {
      "cell_type": "code",
      "metadata": {
        "id": "pw7Nk-UED4BD",
        "colab_type": "code",
        "colab": {}
      },
      "source": [
        "model.fit(xtrain, ytrain, batch_size=16, validation_data=(xval, y_val), epochs=10, shuffle=True, verbose=1)"
      ],
      "execution_count": null,
      "outputs": []
    }
  ]
}