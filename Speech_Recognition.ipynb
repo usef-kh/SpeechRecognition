{
  "nbformat": 4,
  "nbformat_minor": 0,
  "metadata": {
    "colab": {
      "name": "Speech Recognition.ipynb",
      "provenance": [],
      "collapsed_sections": []
    },
    "kernelspec": {
      "name": "python3",
      "display_name": "Python 3"
    },
    "accelerator": "GPU"
  },
  "cells": [
    {
      "cell_type": "code",
      "metadata": {
        "id": "TtaapejCCYxJ",
        "colab_type": "code",
        "colab": {
          "resources": {
            "http://localhost:8080/nbextensions/google.colab/files.js": {
              "data": "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",
              "ok": true,
              "headers": [
                [
                  "content-type",
                  "application/javascript"
                ]
              ],
              "status": 200,
              "status_text": ""
            }
          },
          "base_uri": "https://localhost:8080/",
          "height": 142
        },
        "outputId": "aa75b739-3f09-4d0a-e3a2-ef2ce04b0bd8"
      },
      "source": [
        "# Load Kaggle API Token\n",
        "from google.colab import files\n",
        "!pip install -q kaggle > /dev/null\n",
        "uploaded = files.upload()\n",
        "!mkdir ~/.kaggle\n",
        "!cp /content/kaggle.json ~/.kaggle/kaggle.json\n",
        "!chmod 600 /root/.kaggle/kaggle.json\n",
        "\n",
        "# Load Data\n",
        "!kaggle competitions download -c tensorflow-speech-recognition-challenge > /dev/null\n",
        "\n",
        "# Unzip Data\n",
        "!apt-get install p7zip-full > /dev/null\n",
        "!p7zip -d train.7z > /dev/null\n",
        "# !p7zip -d test.7z > /dev/null"
      ],
      "execution_count": 1,
      "outputs": [
        {
          "output_type": "display_data",
          "data": {
            "text/html": [
              "\n",
              "     <input type=\"file\" id=\"files-1aab6802-6898-42dc-820e-ea1f766ee30b\" name=\"files[]\" multiple disabled\n",
              "        style=\"border:none\" />\n",
              "     <output id=\"result-1aab6802-6898-42dc-820e-ea1f766ee30b\">\n",
              "      Upload widget is only available when the cell has been executed in the\n",
              "      current browser session. Please rerun this cell to enable.\n",
              "      </output>\n",
              "      <script src=\"/nbextensions/google.colab/files.js\"></script> "
            ],
            "text/plain": [
              "<IPython.core.display.HTML object>"
            ]
          },
          "metadata": {
            "tags": []
          }
        },
        {
          "output_type": "stream",
          "text": [
            "Saving kaggle.json to kaggle.json\n",
            "100% 50.0/50.0 [00:00<00:00, 91.7kB/s]\n",
            "100% 1.04G/1.04G [00:20<00:00, 55.2MB/s]\n",
            "100% 501k/501k [00:00<00:00, 33.5MB/s]\n",
            "100% 2.46G/2.46G [00:45<00:00, 58.2MB/s]\n"
          ],
          "name": "stdout"
        }
      ]
    },
    {
      "cell_type": "code",
      "metadata": {
        "id": "jUhhRoprHZJi",
        "colab_type": "code",
        "colab": {
          "base_uri": "https://localhost:8080/",
          "height": 34
        },
        "outputId": "2824f683-7a0b-4c37-8086-c15d7130ea58"
      },
      "source": [
        "from scipy.io import wavfile\n",
        "from IPython.display import Audio\n",
        "from os import walk\n",
        "from matplotlib import pyplot as plt\n",
        "\n",
        "debug = False\n",
        "\n",
        "train_audio_path = '/content/train/audio/'\n",
        "\n",
        "# Load all filenames into a dictionary so we can call on them easily\n",
        "files = {}\n",
        "count = 0\n",
        "for (dirpath, dirnames, filenames) in walk(train_audio_path):\n",
        "  files[dirpath[21:]] = filenames\n",
        "  count += len(filenames)\n",
        "  \n",
        "print(\"Number of Audio signals:\", count)\n",
        "if debug:\n",
        "  # Look at a small part of the dictionary\n",
        "  for label, samples in files.items():\n",
        "    print(label, '\\t', samples[0:5])"
      ],
      "execution_count": 2,
      "outputs": [
        {
          "output_type": "stream",
          "text": [
            "Number of Audio signals: 64728\n"
          ],
          "name": "stdout"
        }
      ]
    },
    {
      "cell_type": "code",
      "metadata": {
        "id": "ngBpZSadzKxv",
        "colab_type": "code",
        "colab": {}
      },
      "source": [
        "import librosa\n",
        "import librosa.display\n",
        "from scipy import signal\n",
        "import numpy as np\n",
        "\n",
        "def loadData(files):\n",
        "  # Build Dataset\n",
        "  new_rate = 8000\n",
        "  xtrain, ytrain = [], []\n",
        "  count = 0\n",
        "  for label, filenames in files.items():\n",
        "    if label not in ['', '_background_noise_']:\n",
        "      for i, filename in enumerate(filenames[:1000]):\n",
        "        audio, new_rate = librosa.load(train_audio_path + label + '/' + filename, sr=new_rate)\n",
        "        audio = pad_audio(audio)\n",
        "        _, _, spectogram = log_specgram(audio, sample_rate=new_rate)\n",
        "      \n",
        "      \n",
        "        if len(audio) != 8000:\n",
        "          print(\"HI\")\n",
        "        else:\n",
        "          xtrain.append(spectogram)\n",
        "          ytrain.append(label)\n",
        "      \n",
        "      count += len(filenames)\n",
        "      print(count / 64728)\n",
        "\n",
        "        # mfccs = librosa.feature.mfcc(y=audio, sr=new_rate, n_mfcc = 50)\n",
        "        # mfccs_processed = np.mean(mfccs.T,axis=0)\n",
        "        \n",
        "  return np.array(xtrain), np.array(ytrain)\n",
        "\n",
        "def onehot(A, mapping=None):\n",
        "  labels = set(['yes', 'no', 'up', 'down', 'left', 'right', 'on', 'off', 'stop', 'go', 'silence', 'unknown'])\n",
        "  \n",
        "  if mapping is None:\n",
        "    mapping = {}\n",
        "    for i, label in enumerate(labels):\n",
        "      temp = [0] * len(labels)\n",
        "      temp[i] = 1\n",
        "      mapping[label] = temp\n",
        "    \n",
        "  res = []\n",
        "  for label in A:\n",
        "    if label == '_background_noise_':\n",
        "      res.append(mapping['silence'])\n",
        "    elif label in labels:\n",
        "      res.append(mapping[label])\n",
        "    else:\n",
        "      res.append(mapping['unknown'])\n",
        "  \n",
        "  return np.array(res), mapping\n",
        "\n",
        "def log_specgram(audio, sample_rate, window_size=20, step_size=10, eps=1e-10):\n",
        "    nperseg = int(round(window_size * sample_rate / 1e3))\n",
        "    noverlap = int(round(step_size * sample_rate / 1e3))\n",
        "    freqs, times, spec = signal.spectrogram(audio,\n",
        "                                    fs=sample_rate,\n",
        "                                    window='hann',\n",
        "                                    nperseg=nperseg,\n",
        "                                    noverlap=noverlap,\n",
        "                                    detrend=False)\n",
        "    return freqs, times, np.log(spec.T.astype(np.float32) + eps)\n",
        "    \n",
        "def normalize(x):\n",
        "  minX = np.amin(x)\n",
        "  maxX = np.amax(x)\n",
        "  gap = maxX - minX\n",
        "\n",
        "  return (x - (minX + 0.5*gap)) / (0.5 * gap)\n",
        "\n",
        "def pad_audio(samples):\n",
        "    if len(samples) >= 8000: return samples\n",
        "    else: \n",
        "      return np.pad(samples, pad_width=(8000 - len(samples), 0), mode='constant', constant_values=(0, 0))"
      ],
      "execution_count": 3,
      "outputs": []
    },
    {
      "cell_type": "code",
      "metadata": {
        "id": "mdTWNDq255jc",
        "colab_type": "code",
        "colab": {
          "base_uri": "https://localhost:8080/",
          "height": 535
        },
        "outputId": "7f33d2f0-0c8c-4b68-b027-5a73363682bf"
      },
      "source": [
        "X, Y = loadData(files)"
      ],
      "execution_count": 4,
      "outputs": [
        {
          "output_type": "stream",
          "text": [
            "0.0364139166975652\n",
            "0.06338833271536275\n",
            "0.09991039426523297\n",
            "0.13660239772586824\n",
            "0.1731708070695835\n",
            "0.20977011494252873\n",
            "0.23672908169571127\n",
            "0.2731738969225065\n",
            "0.30952601656161166\n",
            "0.3364386355209492\n",
            "0.3731615375108145\n",
            "0.39993511308861696\n",
            "0.4363335805215672\n",
            "0.4627981708070696\n",
            "0.49952107279693486\n",
            "0.5361358299344952\n",
            "0.5628785069830676\n",
            "0.5992151773575578\n",
            "0.6259887529353603\n",
            "0.6626962056606106\n",
            "0.6993418613274008\n",
            "0.7357557780249661\n",
            "0.7625448028673835\n",
            "0.7992368063280187\n",
            "0.8358824619948091\n",
            "0.8726517117785193\n",
            "0.8996261277963169\n",
            "0.9361945371400321\n",
            "0.9728556420714374\n",
            "0.999891855147695\n"
          ],
          "name": "stdout"
        }
      ]
    },
    {
      "cell_type": "code",
      "metadata": {
        "id": "GmgUK5wFMpC6",
        "colab_type": "code",
        "colab": {}
      },
      "source": [
        "from sklearn.model_selection import train_test_split\n",
        "\n",
        "# X = X.reshape(X.shape[0], 1, X[0].shape[0])\n",
        "# X = normalize(xtrain)\n",
        "\n",
        "Y, mapping = onehot(Y)\n",
        "xtrain, xval, ytrain, yval = train_test_split(X, Y, test_size=0.2, random_state=127)"
      ],
      "execution_count": 5,
      "outputs": []
    },
    {
      "cell_type": "code",
      "metadata": {
        "id": "eDoe9GJkbmaT",
        "colab_type": "code",
        "colab": {
          "base_uri": "https://localhost:8080/",
          "height": 172
        },
        "outputId": "0f3ceccc-fc91-4c00-b0d0-db5b1dd60808"
      },
      "source": [
        "print('Number of Dimensions:', X.ndim)\n",
        "print('Dataset')\n",
        "print('\\t', X.shape, '\\t\\t', Y.shape)\n",
        "\n",
        "print('\\nTraining Data')\n",
        "print('\\t', xtrain.shape, '\\t\\t', ytrain.shape)\n",
        "\n",
        "print('\\nValidation Data')\n",
        "print('\\t', xval.shape, '\\t\\t', yval.shape)"
      ],
      "execution_count": 7,
      "outputs": [
        {
          "output_type": "stream",
          "text": [
            "Number of Dimensions: 3\n",
            "Dataset\n",
            "\t (30000, 99, 81) \t\t (30000, 12)\n",
            "\n",
            "Training Data\n",
            "\t (24000, 99, 81) \t\t (24000, 12)\n",
            "\n",
            "Validation Data\n",
            "\t (6000, 99, 81) \t\t (6000, 12)\n"
          ],
          "name": "stdout"
        }
      ]
    },
    {
      "cell_type": "code",
      "metadata": {
        "id": "rBMGNFoN-udA",
        "colab_type": "code",
        "colab": {
          "base_uri": "https://localhost:8080/",
          "height": 354
        },
        "outputId": "cea417d9-b08b-4969-f314-874a3d91df51"
      },
      "source": [
        "from keras.models import Sequential\n",
        "from keras.layers import LSTM, Dense, Activation, Flatten\n",
        "\n",
        "model = Sequential()\n",
        "model.add(LSTM(32, return_sequences = True, input_shape = xtrain.shape[1:], activation = 'relu'))\n",
        "model.add(LSTM(128, activation = 'relu'))\n",
        "\n",
        "model.add(Dense(512, activation = 'relu'))\n",
        "model.add(Dense(128, activation = 'relu'))\n",
        "\n",
        "model.add(Dense(len(mapping), activation = 'softmax'))\n",
        "model.summary()\n",
        "\n",
        "model.compile(loss='categorical_crossentropy', optimizer='adam', metrics=['accuracy'])"
      ],
      "execution_count": 8,
      "outputs": [
        {
          "output_type": "stream",
          "text": [
            "Using TensorFlow backend.\n"
          ],
          "name": "stderr"
        },
        {
          "output_type": "stream",
          "text": [
            "Model: \"sequential_1\"\n",
            "_________________________________________________________________\n",
            "Layer (type)                 Output Shape              Param #   \n",
            "=================================================================\n",
            "lstm_1 (LSTM)                (None, 99, 32)            14592     \n",
            "_________________________________________________________________\n",
            "lstm_2 (LSTM)                (None, 128)               82432     \n",
            "_________________________________________________________________\n",
            "dense_1 (Dense)              (None, 512)               66048     \n",
            "_________________________________________________________________\n",
            "dense_2 (Dense)              (None, 128)               65664     \n",
            "_________________________________________________________________\n",
            "dense_3 (Dense)              (None, 12)                1548      \n",
            "=================================================================\n",
            "Total params: 230,284\n",
            "Trainable params: 230,284\n",
            "Non-trainable params: 0\n",
            "_________________________________________________________________\n"
          ],
          "name": "stdout"
        }
      ]
    },
    {
      "cell_type": "code",
      "metadata": {
        "id": "MwxCkQO8Zh8q",
        "colab_type": "code",
        "colab": {
          "base_uri": "https://localhost:8080/",
          "height": 703
        },
        "outputId": "93b7e004-bc66-45e7-e784-9f551e07486a"
      },
      "source": [
        "def loss_curve(history):\n",
        "    train_loss = history.history['loss']\n",
        "    val_loss = history.history['val_loss']\n",
        "\n",
        "    x_axis = range(1, len(history.history['loss'])+1)\n",
        "\n",
        "    plt.figure()\n",
        "    plt.plot(x_axis, train_loss, label=\"Training Loss\")\n",
        "\n",
        "    plt.plot(x_axis, val_loss, label=\"Validation Loss\")\n",
        "\n",
        "    plt.ylabel('Loss Value')\n",
        "    plt.xlabel('Epochs')\n",
        "    plt.title('Epochs vs Loss')\n",
        "    plt.legend()\n",
        "\n",
        "    print('Minimum Validation Loss is:' + str(min(val_loss)))\n",
        "    print('Epoch: ' + str(val_loss.index(min(val_loss)) + 1))\n",
        "\n",
        "history = model.fit(xtrain, ytrain, batch_size=128, validation_data=(xval, yval), epochs=10, shuffle=True, verbose=1)\n",
        "loss_curve(history)"
      ],
      "execution_count": 9,
      "outputs": [
        {
          "output_type": "stream",
          "text": [
            "Train on 24000 samples, validate on 6000 samples\n",
            "Epoch 1/10\n",
            "24000/24000 [==============================] - 93s 4ms/step - loss: 9305.4720 - accuracy: 0.4270 - val_loss: 2.7359 - val_accuracy: 0.6588\n",
            "Epoch 2/10\n",
            "24000/24000 [==============================] - 91s 4ms/step - loss: 2.4590 - accuracy: 0.6682 - val_loss: 2.2656 - val_accuracy: 0.6590\n",
            "Epoch 3/10\n",
            "24000/24000 [==============================] - 92s 4ms/step - loss: 2.3053 - accuracy: 0.6682 - val_loss: 2.1092 - val_accuracy: 0.6588\n",
            "Epoch 4/10\n",
            "24000/24000 [==============================] - 92s 4ms/step - loss: 2.2207 - accuracy: 0.6683 - val_loss: 2.1534 - val_accuracy: 0.6590\n",
            "Epoch 5/10\n",
            "24000/24000 [==============================] - 92s 4ms/step - loss: 1.9603 - accuracy: 0.6684 - val_loss: 1.8562 - val_accuracy: 0.6590\n",
            "Epoch 6/10\n",
            "24000/24000 [==============================] - 92s 4ms/step - loss: 1.9639 - accuracy: 0.6684 - val_loss: 1.7290 - val_accuracy: 0.6590\n",
            "Epoch 7/10\n",
            "24000/24000 [==============================] - 92s 4ms/step - loss: 1.7121 - accuracy: 0.6685 - val_loss: 1.7713 - val_accuracy: 0.6588\n",
            "Epoch 8/10\n",
            "24000/24000 [==============================] - 92s 4ms/step - loss: 1.7702 - accuracy: 0.6684 - val_loss: 1.7050 - val_accuracy: 0.6590\n",
            "Epoch 9/10\n",
            "24000/24000 [==============================] - 92s 4ms/step - loss: 1.5709 - accuracy: 0.6685 - val_loss: 1.5643 - val_accuracy: 0.6590\n",
            "Epoch 10/10\n",
            "24000/24000 [==============================] - 92s 4ms/step - loss: 1.5059 - accuracy: 0.6686 - val_loss: 1.5450 - val_accuracy: 0.6590\n",
            "Minimum Validation Loss is:1.545021284421285\n",
            "Epoch: 10\n"
          ],
          "name": "stdout"
        },
        {
          "output_type": "display_data",
          "data": {
            "image/png": "[encoded data removed]",
            "text/plain": [
              "<Figure size 432x288 with 1 Axes>"
            ]
          },
          "metadata": {
            "tags": [],
            "needs_background": "light"
          }
        }
      ]
    }
  ]
}